{
  "nbformat": 4,
  "nbformat_minor": 0,
  "metadata": {
    "colab": {
      "name": "Streamlit.ipynb",
      "provenance": [],
      "collapsed_sections": [],
      "include_colab_link": true
    },
    "kernelspec": {
      "name": "python3",
      "display_name": "Python 3"
    },
    "language_info": {
      "name": "python"
    },
    "accelerator": "GPU"
  },
  "cells": [
    {
      "cell_type": "markdown",
      "metadata": {
        "id": "view-in-github",
        "colab_type": "text"
      },
      "source": [
        "<a href=\"https://colab.research.google.com/github/Mwaniki25/Twitter_Accident_Analysis/blob/main/Streamlit.ipynb\" target=\"_parent\"><img src=\"https://colab.research.google.com/assets/colab-badge.svg\" alt=\"Open In Colab\"/></a>"
      ]
    },
    {
      "cell_type": "code",
      "metadata": {
        "id": "3_wjIL3vx6SD",
        "colab": {
          "base_uri": "https://localhost:8080/",
          "height": 1000
        },
        "outputId": "59d2b01a-9fe1-4642-fe88-d800ca5af76a"
      },
      "source": [
        "!pip install streamlit"
      ],
      "execution_count": 1,
      "outputs": [
        {
          "output_type": "stream",
          "text": [
            "Collecting streamlit\n",
            "\u001b[?25l  Downloading https://files.pythonhosted.org/packages/d7/0c/469ee9160ad7bc064eb498fa95aefd4e96b593ce0d53fb07ff217badff47/streamlit-0.83.0-py2.py3-none-any.whl (7.7MB)\n",
            "\u001b[K     |████████████████████████████████| 7.8MB 28.4MB/s \n",
            "\u001b[?25hRequirement already satisfied: astor in /usr/local/lib/python3.7/dist-packages (from streamlit) (0.8.1)\n",
            "Requirement already satisfied: toml in /usr/local/lib/python3.7/dist-packages (from streamlit) (0.10.2)\n",
            "Requirement already satisfied: pandas>=0.21.0 in /usr/local/lib/python3.7/dist-packages (from streamlit) (1.1.5)\n",
            "Requirement already satisfied: pillow>=6.2.0 in /usr/local/lib/python3.7/dist-packages (from streamlit) (7.1.2)\n",
            "Requirement already satisfied: cachetools>=4.0 in /usr/local/lib/python3.7/dist-packages (from streamlit) (4.2.2)\n",
            "Requirement already satisfied: click<8.0,>=7.0 in /usr/local/lib/python3.7/dist-packages (from streamlit) (7.1.2)\n",
            "Requirement already satisfied: numpy in /usr/local/lib/python3.7/dist-packages (from streamlit) (1.19.5)\n",
            "Collecting watchdog; platform_system != \"Darwin\"\n",
            "\u001b[?25l  Downloading https://files.pythonhosted.org/packages/6b/d1/b0a1e69af06d2f6f47a11238ca115667d858cbb30baf6b6df03f1b874163/watchdog-2.1.3-py3-none-manylinux2014_x86_64.whl (75kB)\n",
            "\u001b[K     |████████████████████████████████| 81kB 10.2MB/s \n",
            "\u001b[?25hCollecting validators\n",
            "  Downloading https://files.pythonhosted.org/packages/db/2f/7fed3ee94ad665ad2c1de87f858f10a7785251ff75b4fd47987888d07ef1/validators-0.18.2-py3-none-any.whl\n",
            "Collecting gitpython\n",
            "\u001b[?25l  Downloading https://files.pythonhosted.org/packages/bc/91/b38c4fabb6e5092ab23492ded4f318ab7299b19263272b703478038c0fbc/GitPython-3.1.18-py3-none-any.whl (170kB)\n",
            "\u001b[K     |████████████████████████████████| 174kB 46.5MB/s \n",
            "\u001b[?25hRequirement already satisfied: protobuf!=3.11,>=3.6.0 in /usr/local/lib/python3.7/dist-packages (from streamlit) (3.12.4)\n",
            "Collecting blinker\n",
            "\u001b[?25l  Downloading https://files.pythonhosted.org/packages/1b/51/e2a9f3b757eb802f61dc1f2b09c8c99f6eb01cf06416c0671253536517b6/blinker-1.4.tar.gz (111kB)\n",
            "\u001b[K     |████████████████████████████████| 112kB 44.4MB/s \n",
            "\u001b[?25hRequirement already satisfied: requests in /usr/local/lib/python3.7/dist-packages (from streamlit) (2.23.0)\n",
            "Collecting pydeck>=0.1.dev5\n",
            "\u001b[?25l  Downloading https://files.pythonhosted.org/packages/d6/bc/f0e44828e4290367c869591d50d3671a4d0ee94926da6cb734b7b200308c/pydeck-0.6.2-py2.py3-none-any.whl (4.2MB)\n",
            "\u001b[K     |████████████████████████████████| 4.2MB 19.8MB/s \n",
            "\u001b[?25hRequirement already satisfied: tornado>=5.0 in /usr/local/lib/python3.7/dist-packages (from streamlit) (5.1.1)\n",
            "Requirement already satisfied: pyarrow; python_version < \"3.9\" in /usr/local/lib/python3.7/dist-packages (from streamlit) (3.0.0)\n",
            "Requirement already satisfied: packaging in /usr/local/lib/python3.7/dist-packages (from streamlit) (20.9)\n",
            "Requirement already satisfied: tzlocal in /usr/local/lib/python3.7/dist-packages (from streamlit) (1.5.1)\n",
            "Requirement already satisfied: python-dateutil in /usr/local/lib/python3.7/dist-packages (from streamlit) (2.8.1)\n",
            "Collecting base58\n",
            "  Downloading https://files.pythonhosted.org/packages/b8/a1/d9f565e9910c09fd325dc638765e8843a19fa696275c16cc08cf3b0a3c25/base58-2.1.0-py3-none-any.whl\n",
            "Requirement already satisfied: altair>=3.2.0 in /usr/local/lib/python3.7/dist-packages (from streamlit) (4.1.0)\n",
            "Requirement already satisfied: pytz>=2017.2 in /usr/local/lib/python3.7/dist-packages (from pandas>=0.21.0->streamlit) (2018.9)\n",
            "Requirement already satisfied: six>=1.4.0 in /usr/local/lib/python3.7/dist-packages (from validators->streamlit) (1.15.0)\n",
            "Requirement already satisfied: decorator>=3.4.0 in /usr/local/lib/python3.7/dist-packages (from validators->streamlit) (4.4.2)\n",
            "Requirement already satisfied: typing-extensions>=3.7.4.0; python_version < \"3.8\" in /usr/local/lib/python3.7/dist-packages (from gitpython->streamlit) (3.7.4.3)\n",
            "Collecting gitdb<5,>=4.0.1\n",
            "\u001b[?25l  Downloading https://files.pythonhosted.org/packages/ea/e8/f414d1a4f0bbc668ed441f74f44c116d9816833a48bf81d22b697090dba8/gitdb-4.0.7-py3-none-any.whl (63kB)\n",
            "\u001b[K     |████████████████████████████████| 71kB 7.6MB/s \n",
            "\u001b[?25hRequirement already satisfied: setuptools in /usr/local/lib/python3.7/dist-packages (from protobuf!=3.11,>=3.6.0->streamlit) (57.0.0)\n",
            "Requirement already satisfied: idna<3,>=2.5 in /usr/local/lib/python3.7/dist-packages (from requests->streamlit) (2.10)\n",
            "Requirement already satisfied: certifi>=2017.4.17 in /usr/local/lib/python3.7/dist-packages (from requests->streamlit) (2021.5.30)\n",
            "Requirement already satisfied: chardet<4,>=3.0.2 in /usr/local/lib/python3.7/dist-packages (from requests->streamlit) (3.0.4)\n",
            "Requirement already satisfied: urllib3!=1.25.0,!=1.25.1,<1.26,>=1.21.1 in /usr/local/lib/python3.7/dist-packages (from requests->streamlit) (1.24.3)\n",
            "Requirement already satisfied: traitlets>=4.3.2 in /usr/local/lib/python3.7/dist-packages (from pydeck>=0.1.dev5->streamlit) (5.0.5)\n",
            "Requirement already satisfied: ipywidgets>=7.0.0 in /usr/local/lib/python3.7/dist-packages (from pydeck>=0.1.dev5->streamlit) (7.6.3)\n",
            "Requirement already satisfied: jinja2>=2.10.1 in /usr/local/lib/python3.7/dist-packages (from pydeck>=0.1.dev5->streamlit) (2.11.3)\n",
            "Collecting ipykernel>=5.1.2; python_version >= \"3.4\"\n",
            "\u001b[?25l  Downloading https://files.pythonhosted.org/packages/90/6d/6c8fe4b658f77947d4244ce81f60230c4c8d1dc1a21ae83e63b269339178/ipykernel-5.5.5-py3-none-any.whl (120kB)\n",
            "\u001b[K     |████████████████████████████████| 122kB 43.3MB/s \n",
            "\u001b[?25hRequirement already satisfied: pyparsing>=2.0.2 in /usr/local/lib/python3.7/dist-packages (from packaging->streamlit) (2.4.7)\n",
            "Requirement already satisfied: toolz in /usr/local/lib/python3.7/dist-packages (from altair>=3.2.0->streamlit) (0.11.1)\n",
            "Requirement already satisfied: entrypoints in /usr/local/lib/python3.7/dist-packages (from altair>=3.2.0->streamlit) (0.3)\n",
            "Requirement already satisfied: jsonschema in /usr/local/lib/python3.7/dist-packages (from altair>=3.2.0->streamlit) (2.6.0)\n",
            "Collecting smmap<5,>=3.0.1\n",
            "  Downloading https://files.pythonhosted.org/packages/68/ee/d540eb5e5996eb81c26ceffac6ee49041d473bc5125f2aa995cf51ec1cf1/smmap-4.0.0-py2.py3-none-any.whl\n",
            "Requirement already satisfied: ipython-genutils in /usr/local/lib/python3.7/dist-packages (from traitlets>=4.3.2->pydeck>=0.1.dev5->streamlit) (0.2.0)\n",
            "Requirement already satisfied: nbformat>=4.2.0 in /usr/local/lib/python3.7/dist-packages (from ipywidgets>=7.0.0->pydeck>=0.1.dev5->streamlit) (5.1.3)\n",
            "Requirement already satisfied: widgetsnbextension~=3.5.0 in /usr/local/lib/python3.7/dist-packages (from ipywidgets>=7.0.0->pydeck>=0.1.dev5->streamlit) (3.5.1)\n",
            "Requirement already satisfied: jupyterlab-widgets>=1.0.0; python_version >= \"3.6\" in /usr/local/lib/python3.7/dist-packages (from ipywidgets>=7.0.0->pydeck>=0.1.dev5->streamlit) (1.0.0)\n",
            "Requirement already satisfied: ipython>=4.0.0; python_version >= \"3.3\" in /usr/local/lib/python3.7/dist-packages (from ipywidgets>=7.0.0->pydeck>=0.1.dev5->streamlit) (5.5.0)\n",
            "Requirement already satisfied: MarkupSafe>=0.23 in /usr/local/lib/python3.7/dist-packages (from jinja2>=2.10.1->pydeck>=0.1.dev5->streamlit) (2.0.1)\n",
            "Requirement already satisfied: jupyter-client in /usr/local/lib/python3.7/dist-packages (from ipykernel>=5.1.2; python_version >= \"3.4\"->pydeck>=0.1.dev5->streamlit) (5.3.5)\n",
            "Requirement already satisfied: jupyter-core in /usr/local/lib/python3.7/dist-packages (from nbformat>=4.2.0->ipywidgets>=7.0.0->pydeck>=0.1.dev5->streamlit) (4.7.1)\n",
            "Requirement already satisfied: notebook>=4.4.1 in /usr/local/lib/python3.7/dist-packages (from widgetsnbextension~=3.5.0->ipywidgets>=7.0.0->pydeck>=0.1.dev5->streamlit) (5.3.1)\n",
            "Requirement already satisfied: prompt-toolkit<2.0.0,>=1.0.4 in /usr/local/lib/python3.7/dist-packages (from ipython>=4.0.0; python_version >= \"3.3\"->ipywidgets>=7.0.0->pydeck>=0.1.dev5->streamlit) (1.0.18)\n",
            "Requirement already satisfied: simplegeneric>0.8 in /usr/local/lib/python3.7/dist-packages (from ipython>=4.0.0; python_version >= \"3.3\"->ipywidgets>=7.0.0->pydeck>=0.1.dev5->streamlit) (0.8.1)\n",
            "Requirement already satisfied: pygments in /usr/local/lib/python3.7/dist-packages (from ipython>=4.0.0; python_version >= \"3.3\"->ipywidgets>=7.0.0->pydeck>=0.1.dev5->streamlit) (2.6.1)\n",
            "Requirement already satisfied: pexpect; sys_platform != \"win32\" in /usr/local/lib/python3.7/dist-packages (from ipython>=4.0.0; python_version >= \"3.3\"->ipywidgets>=7.0.0->pydeck>=0.1.dev5->streamlit) (4.8.0)\n",
            "Requirement already satisfied: pickleshare in /usr/local/lib/python3.7/dist-packages (from ipython>=4.0.0; python_version >= \"3.3\"->ipywidgets>=7.0.0->pydeck>=0.1.dev5->streamlit) (0.7.5)\n",
            "Requirement already satisfied: pyzmq>=13 in /usr/local/lib/python3.7/dist-packages (from jupyter-client->ipykernel>=5.1.2; python_version >= \"3.4\"->pydeck>=0.1.dev5->streamlit) (22.1.0)\n",
            "Requirement already satisfied: Send2Trash in /usr/local/lib/python3.7/dist-packages (from notebook>=4.4.1->widgetsnbextension~=3.5.0->ipywidgets>=7.0.0->pydeck>=0.1.dev5->streamlit) (1.5.0)\n",
            "Requirement already satisfied: nbconvert in /usr/local/lib/python3.7/dist-packages (from notebook>=4.4.1->widgetsnbextension~=3.5.0->ipywidgets>=7.0.0->pydeck>=0.1.dev5->streamlit) (5.6.1)\n",
            "Requirement already satisfied: terminado>=0.8.1 in /usr/local/lib/python3.7/dist-packages (from notebook>=4.4.1->widgetsnbextension~=3.5.0->ipywidgets>=7.0.0->pydeck>=0.1.dev5->streamlit) (0.10.1)\n",
            "Requirement already satisfied: wcwidth in /usr/local/lib/python3.7/dist-packages (from prompt-toolkit<2.0.0,>=1.0.4->ipython>=4.0.0; python_version >= \"3.3\"->ipywidgets>=7.0.0->pydeck>=0.1.dev5->streamlit) (0.2.5)\n",
            "Requirement already satisfied: ptyprocess>=0.5 in /usr/local/lib/python3.7/dist-packages (from pexpect; sys_platform != \"win32\"->ipython>=4.0.0; python_version >= \"3.3\"->ipywidgets>=7.0.0->pydeck>=0.1.dev5->streamlit) (0.7.0)\n",
            "Requirement already satisfied: mistune<2,>=0.8.1 in /usr/local/lib/python3.7/dist-packages (from nbconvert->notebook>=4.4.1->widgetsnbextension~=3.5.0->ipywidgets>=7.0.0->pydeck>=0.1.dev5->streamlit) (0.8.4)\n",
            "Requirement already satisfied: pandocfilters>=1.4.1 in /usr/local/lib/python3.7/dist-packages (from nbconvert->notebook>=4.4.1->widgetsnbextension~=3.5.0->ipywidgets>=7.0.0->pydeck>=0.1.dev5->streamlit) (1.4.3)\n",
            "Requirement already satisfied: defusedxml in /usr/local/lib/python3.7/dist-packages (from nbconvert->notebook>=4.4.1->widgetsnbextension~=3.5.0->ipywidgets>=7.0.0->pydeck>=0.1.dev5->streamlit) (0.7.1)\n",
            "Requirement already satisfied: bleach in /usr/local/lib/python3.7/dist-packages (from nbconvert->notebook>=4.4.1->widgetsnbextension~=3.5.0->ipywidgets>=7.0.0->pydeck>=0.1.dev5->streamlit) (3.3.0)\n",
            "Requirement already satisfied: testpath in /usr/local/lib/python3.7/dist-packages (from nbconvert->notebook>=4.4.1->widgetsnbextension~=3.5.0->ipywidgets>=7.0.0->pydeck>=0.1.dev5->streamlit) (0.5.0)\n",
            "Requirement already satisfied: webencodings in /usr/local/lib/python3.7/dist-packages (from bleach->nbconvert->notebook>=4.4.1->widgetsnbextension~=3.5.0->ipywidgets>=7.0.0->pydeck>=0.1.dev5->streamlit) (0.5.1)\n",
            "Building wheels for collected packages: blinker\n",
            "  Building wheel for blinker (setup.py) ... \u001b[?25l\u001b[?25hdone\n",
            "  Created wheel for blinker: filename=blinker-1.4-cp37-none-any.whl size=13476 sha256=897091f667cccee1680c537f421c727bbd62eaaa1d94c224a45014dc7c1d8684\n",
            "  Stored in directory: /root/.cache/pip/wheels/92/a0/00/8690a57883956a301d91cf4ec999cc0b258b01e3f548f86e89\n",
            "Successfully built blinker\n",
            "\u001b[31mERROR: google-colab 1.0.0 has requirement ipykernel~=4.10, but you'll have ipykernel 5.5.5 which is incompatible.\u001b[0m\n",
            "Installing collected packages: watchdog, validators, smmap, gitdb, gitpython, blinker, ipykernel, pydeck, base58, streamlit\n",
            "  Found existing installation: ipykernel 4.10.1\n",
            "    Uninstalling ipykernel-4.10.1:\n",
            "      Successfully uninstalled ipykernel-4.10.1\n",
            "Successfully installed base58-2.1.0 blinker-1.4 gitdb-4.0.7 gitpython-3.1.18 ipykernel-5.5.5 pydeck-0.6.2 smmap-4.0.0 streamlit-0.83.0 validators-0.18.2 watchdog-2.1.3\n"
          ],
          "name": "stdout"
        },
        {
          "output_type": "display_data",
          "data": {
            "application/vnd.colab-display-data+json": {
              "pip_warning": {
                "packages": [
                  "ipykernel"
                ]
              }
            }
          },
          "metadata": {
            "tags": []
          }
        }
      ]
    },
    {
      "cell_type": "code",
      "metadata": {
        "colab": {
          "base_uri": "https://localhost:8080/"
        },
        "id": "T--_9JGt7n29",
        "outputId": "acb17428-68d4-46d7-c45f-5fcb01a53f8e"
      },
      "source": [
        "!pip install transformers"
      ],
      "execution_count": 1,
      "outputs": [
        {
          "output_type": "stream",
          "text": [
            "Collecting transformers\n",
            "\u001b[?25l  Downloading https://files.pythonhosted.org/packages/b5/d5/c6c23ad75491467a9a84e526ef2364e523d45e2b0fae28a7cbe8689e7e84/transformers-4.8.1-py3-none-any.whl (2.5MB)\n",
            "\u001b[K     |████████████████████████████████| 2.5MB 19.4MB/s \n",
            "\u001b[?25hRequirement already satisfied: filelock in /usr/local/lib/python3.7/dist-packages (from transformers) (3.0.12)\n",
            "Requirement already satisfied: pyyaml in /usr/local/lib/python3.7/dist-packages (from transformers) (3.13)\n",
            "Requirement already satisfied: requests in /usr/local/lib/python3.7/dist-packages (from transformers) (2.23.0)\n",
            "Collecting tokenizers<0.11,>=0.10.1\n",
            "\u001b[?25l  Downloading https://files.pythonhosted.org/packages/d4/e2/df3543e8ffdab68f5acc73f613de9c2b155ac47f162e725dcac87c521c11/tokenizers-0.10.3-cp37-cp37m-manylinux_2_5_x86_64.manylinux1_x86_64.manylinux_2_12_x86_64.manylinux2010_x86_64.whl (3.3MB)\n",
            "\u001b[K     |████████████████████████████████| 3.3MB 37.3MB/s \n",
            "\u001b[?25hCollecting huggingface-hub==0.0.12\n",
            "  Downloading https://files.pythonhosted.org/packages/2f/ee/97e253668fda9b17e968b3f97b2f8e53aa0127e8807d24a547687423fe0b/huggingface_hub-0.0.12-py3-none-any.whl\n",
            "Requirement already satisfied: regex!=2019.12.17 in /usr/local/lib/python3.7/dist-packages (from transformers) (2019.12.20)\n",
            "Collecting sacremoses\n",
            "\u001b[?25l  Downloading https://files.pythonhosted.org/packages/75/ee/67241dc87f266093c533a2d4d3d69438e57d7a90abb216fa076e7d475d4a/sacremoses-0.0.45-py3-none-any.whl (895kB)\n",
            "\u001b[K     |████████████████████████████████| 901kB 37.9MB/s \n",
            "\u001b[?25hRequirement already satisfied: tqdm>=4.27 in /usr/local/lib/python3.7/dist-packages (from transformers) (4.41.1)\n",
            "Requirement already satisfied: packaging in /usr/local/lib/python3.7/dist-packages (from transformers) (20.9)\n",
            "Requirement already satisfied: numpy>=1.17 in /usr/local/lib/python3.7/dist-packages (from transformers) (1.19.5)\n",
            "Requirement already satisfied: importlib-metadata; python_version < \"3.8\" in /usr/local/lib/python3.7/dist-packages (from transformers) (4.5.0)\n",
            "Requirement already satisfied: certifi>=2017.4.17 in /usr/local/lib/python3.7/dist-packages (from requests->transformers) (2021.5.30)\n",
            "Requirement already satisfied: idna<3,>=2.5 in /usr/local/lib/python3.7/dist-packages (from requests->transformers) (2.10)\n",
            "Requirement already satisfied: urllib3!=1.25.0,!=1.25.1,<1.26,>=1.21.1 in /usr/local/lib/python3.7/dist-packages (from requests->transformers) (1.24.3)\n",
            "Requirement already satisfied: chardet<4,>=3.0.2 in /usr/local/lib/python3.7/dist-packages (from requests->transformers) (3.0.4)\n",
            "Requirement already satisfied: typing-extensions in /usr/local/lib/python3.7/dist-packages (from huggingface-hub==0.0.12->transformers) (3.7.4.3)\n",
            "Requirement already satisfied: six in /usr/local/lib/python3.7/dist-packages (from sacremoses->transformers) (1.15.0)\n",
            "Requirement already satisfied: click in /usr/local/lib/python3.7/dist-packages (from sacremoses->transformers) (7.1.2)\n",
            "Requirement already satisfied: joblib in /usr/local/lib/python3.7/dist-packages (from sacremoses->transformers) (1.0.1)\n",
            "Requirement already satisfied: pyparsing>=2.0.2 in /usr/local/lib/python3.7/dist-packages (from packaging->transformers) (2.4.7)\n",
            "Requirement already satisfied: zipp>=0.5 in /usr/local/lib/python3.7/dist-packages (from importlib-metadata; python_version < \"3.8\"->transformers) (3.4.1)\n",
            "Installing collected packages: tokenizers, huggingface-hub, sacremoses, transformers\n",
            "Successfully installed huggingface-hub-0.0.12 sacremoses-0.0.45 tokenizers-0.10.3 transformers-4.8.1\n"
          ],
          "name": "stdout"
        }
      ]
    },
    {
      "cell_type": "code",
      "metadata": {
        "colab": {
          "base_uri": "https://localhost:8080/"
        },
        "id": "PlQ3Df5E74lt",
        "outputId": "c7b87a30-8212-4216-cf8d-5fe43c6d19ef"
      },
      "source": [
        "pip install --upgrade pip"
      ],
      "execution_count": 2,
      "outputs": [
        {
          "output_type": "stream",
          "text": [
            "Collecting pip\n",
            "\u001b[?25l  Downloading https://files.pythonhosted.org/packages/47/ca/f0d790b6e18b3a6f3bd5e80c2ee4edbb5807286c21cdd0862ca933f751dd/pip-21.1.3-py3-none-any.whl (1.5MB)\n",
            "\r\u001b[K     |▏                               | 10kB 11.8MB/s eta 0:00:01\r\u001b[K     |▍                               | 20kB 17.8MB/s eta 0:00:01\r\u001b[K     |▋                               | 30kB 21.7MB/s eta 0:00:01\r\u001b[K     |▉                               | 40kB 23.7MB/s eta 0:00:01\r\u001b[K     |█                               | 51kB 25.5MB/s eta 0:00:01\r\u001b[K     |█▎                              | 61kB 27.7MB/s eta 0:00:01\r\u001b[K     |█▌                              | 71kB 27.8MB/s eta 0:00:01\r\u001b[K     |█▊                              | 81kB 28.3MB/s eta 0:00:01\r\u001b[K     |██                              | 92kB 29.3MB/s eta 0:00:01\r\u001b[K     |██▏                             | 102kB 28.7MB/s eta 0:00:01\r\u001b[K     |██▎                             | 112kB 28.7MB/s eta 0:00:01\r\u001b[K     |██▌                             | 122kB 28.7MB/s eta 0:00:01\r\u001b[K     |██▊                             | 133kB 28.7MB/s eta 0:00:01\r\u001b[K     |███                             | 143kB 28.7MB/s eta 0:00:01\r\u001b[K     |███▏                            | 153kB 28.7MB/s eta 0:00:01\r\u001b[K     |███▍                            | 163kB 28.7MB/s eta 0:00:01\r\u001b[K     |███▋                            | 174kB 28.7MB/s eta 0:00:01\r\u001b[K     |███▉                            | 184kB 28.7MB/s eta 0:00:01\r\u001b[K     |████                            | 194kB 28.7MB/s eta 0:00:01\r\u001b[K     |████▎                           | 204kB 28.7MB/s eta 0:00:01\r\u001b[K     |████▌                           | 215kB 28.7MB/s eta 0:00:01\r\u001b[K     |████▋                           | 225kB 28.7MB/s eta 0:00:01\r\u001b[K     |████▉                           | 235kB 28.7MB/s eta 0:00:01\r\u001b[K     |█████                           | 245kB 28.7MB/s eta 0:00:01\r\u001b[K     |█████▎                          | 256kB 28.7MB/s eta 0:00:01\r\u001b[K     |█████▌                          | 266kB 28.7MB/s eta 0:00:01\r\u001b[K     |█████▊                          | 276kB 28.7MB/s eta 0:00:01\r\u001b[K     |██████                          | 286kB 28.7MB/s eta 0:00:01\r\u001b[K     |██████▏                         | 296kB 28.7MB/s eta 0:00:01\r\u001b[K     |██████▍                         | 307kB 28.7MB/s eta 0:00:01\r\u001b[K     |██████▋                         | 317kB 28.7MB/s eta 0:00:01\r\u001b[K     |██████▊                         | 327kB 28.7MB/s eta 0:00:01\r\u001b[K     |███████                         | 337kB 28.7MB/s eta 0:00:01\r\u001b[K     |███████▏                        | 348kB 28.7MB/s eta 0:00:01\r\u001b[K     |███████▍                        | 358kB 28.7MB/s eta 0:00:01\r\u001b[K     |███████▋                        | 368kB 28.7MB/s eta 0:00:01\r\u001b[K     |███████▉                        | 378kB 28.7MB/s eta 0:00:01\r\u001b[K     |████████                        | 389kB 28.7MB/s eta 0:00:01\r\u001b[K     |████████▎                       | 399kB 28.7MB/s eta 0:00:01\r\u001b[K     |████████▌                       | 409kB 28.7MB/s eta 0:00:01\r\u001b[K     |████████▊                       | 419kB 28.7MB/s eta 0:00:01\r\u001b[K     |█████████                       | 430kB 28.7MB/s eta 0:00:01\r\u001b[K     |█████████                       | 440kB 28.7MB/s eta 0:00:01\r\u001b[K     |█████████▎                      | 450kB 28.7MB/s eta 0:00:01\r\u001b[K     |█████████▌                      | 460kB 28.7MB/s eta 0:00:01\r\u001b[K     |█████████▊                      | 471kB 28.7MB/s eta 0:00:01\r\u001b[K     |██████████                      | 481kB 28.7MB/s eta 0:00:01\r\u001b[K     |██████████▏                     | 491kB 28.7MB/s eta 0:00:01\r\u001b[K     |██████████▍                     | 501kB 28.7MB/s eta 0:00:01\r\u001b[K     |██████████▋                     | 512kB 28.7MB/s eta 0:00:01\r\u001b[K     |██████████▉                     | 522kB 28.7MB/s eta 0:00:01\r\u001b[K     |███████████                     | 532kB 28.7MB/s eta 0:00:01\r\u001b[K     |███████████▏                    | 542kB 28.7MB/s eta 0:00:01\r\u001b[K     |███████████▍                    | 552kB 28.7MB/s eta 0:00:01\r\u001b[K     |███████████▋                    | 563kB 28.7MB/s eta 0:00:01\r\u001b[K     |███████████▉                    | 573kB 28.7MB/s eta 0:00:01\r\u001b[K     |████████████                    | 583kB 28.7MB/s eta 0:00:01\r\u001b[K     |████████████▎                   | 593kB 28.7MB/s eta 0:00:01\r\u001b[K     |████████████▌                   | 604kB 28.7MB/s eta 0:00:01\r\u001b[K     |████████████▊                   | 614kB 28.7MB/s eta 0:00:01\r\u001b[K     |█████████████                   | 624kB 28.7MB/s eta 0:00:01\r\u001b[K     |█████████████▏                  | 634kB 28.7MB/s eta 0:00:01\r\u001b[K     |█████████████▍                  | 645kB 28.7MB/s eta 0:00:01\r\u001b[K     |█████████████▌                  | 655kB 28.7MB/s eta 0:00:01\r\u001b[K     |█████████████▊                  | 665kB 28.7MB/s eta 0:00:01\r\u001b[K     |██████████████                  | 675kB 28.7MB/s eta 0:00:01\r\u001b[K     |██████████████▏                 | 686kB 28.7MB/s eta 0:00:01\r\u001b[K     |██████████████▍                 | 696kB 28.7MB/s eta 0:00:01\r\u001b[K     |██████████████▋                 | 706kB 28.7MB/s eta 0:00:01\r\u001b[K     |██████████████▉                 | 716kB 28.7MB/s eta 0:00:01\r\u001b[K     |███████████████                 | 727kB 28.7MB/s eta 0:00:01\r\u001b[K     |███████████████▎                | 737kB 28.7MB/s eta 0:00:01\r\u001b[K     |███████████████▌                | 747kB 28.7MB/s eta 0:00:01\r\u001b[K     |███████████████▋                | 757kB 28.7MB/s eta 0:00:01\r\u001b[K     |███████████████▉                | 768kB 28.7MB/s eta 0:00:01\r\u001b[K     |████████████████                | 778kB 28.7MB/s eta 0:00:01\r\u001b[K     |████████████████▎               | 788kB 28.7MB/s eta 0:00:01\r\u001b[K     |████████████████▌               | 798kB 28.7MB/s eta 0:00:01\r\u001b[K     |████████████████▊               | 808kB 28.7MB/s eta 0:00:01\r\u001b[K     |█████████████████               | 819kB 28.7MB/s eta 0:00:01\r\u001b[K     |█████████████████▏              | 829kB 28.7MB/s eta 0:00:01\r\u001b[K     |█████████████████▍              | 839kB 28.7MB/s eta 0:00:01\r\u001b[K     |█████████████████▋              | 849kB 28.7MB/s eta 0:00:01\r\u001b[K     |█████████████████▉              | 860kB 28.7MB/s eta 0:00:01\r\u001b[K     |██████████████████              | 870kB 28.7MB/s eta 0:00:01\r\u001b[K     |██████████████████▏             | 880kB 28.7MB/s eta 0:00:01\r\u001b[K     |██████████████████▍             | 890kB 28.7MB/s eta 0:00:01\r\u001b[K     |██████████████████▋             | 901kB 28.7MB/s eta 0:00:01\r\u001b[K     |██████████████████▉             | 911kB 28.7MB/s eta 0:00:01\r\u001b[K     |███████████████████             | 921kB 28.7MB/s eta 0:00:01\r\u001b[K     |███████████████████▎            | 931kB 28.7MB/s eta 0:00:01\r\u001b[K     |███████████████████▌            | 942kB 28.7MB/s eta 0:00:01\r\u001b[K     |███████████████████▊            | 952kB 28.7MB/s eta 0:00:01\r\u001b[K     |████████████████████            | 962kB 28.7MB/s eta 0:00:01\r\u001b[K     |████████████████████            | 972kB 28.7MB/s eta 0:00:01\r\u001b[K     |████████████████████▎           | 983kB 28.7MB/s eta 0:00:01\r\u001b[K     |████████████████████▌           | 993kB 28.7MB/s eta 0:00:01\r\u001b[K     |████████████████████▊           | 1.0MB 28.7MB/s eta 0:00:01\r\u001b[K     |█████████████████████           | 1.0MB 28.7MB/s eta 0:00:01\r\u001b[K     |█████████████████████▏          | 1.0MB 28.7MB/s eta 0:00:01\r\u001b[K     |█████████████████████▍          | 1.0MB 28.7MB/s eta 0:00:01\r\u001b[K     |█████████████████████▋          | 1.0MB 28.7MB/s eta 0:00:01\r\u001b[K     |█████████████████████▉          | 1.1MB 28.7MB/s eta 0:00:01\r\u001b[K     |██████████████████████          | 1.1MB 28.7MB/s eta 0:00:01\r\u001b[K     |██████████████████████▎         | 1.1MB 28.7MB/s eta 0:00:01\r\u001b[K     |██████████████████████▍         | 1.1MB 28.7MB/s eta 0:00:01\r\u001b[K     |██████████████████████▋         | 1.1MB 28.7MB/s eta 0:00:01\r\u001b[K     |██████████████████████▉         | 1.1MB 28.7MB/s eta 0:00:01\r\u001b[K     |███████████████████████         | 1.1MB 28.7MB/s eta 0:00:01\r\u001b[K     |███████████████████████▎        | 1.1MB 28.7MB/s eta 0:00:01\r\u001b[K     |███████████████████████▌        | 1.1MB 28.7MB/s eta 0:00:01\r\u001b[K     |███████████████████████▊        | 1.1MB 28.7MB/s eta 0:00:01\r\u001b[K     |████████████████████████        | 1.2MB 28.7MB/s eta 0:00:01\r\u001b[K     |████████████████████████▏       | 1.2MB 28.7MB/s eta 0:00:01\r\u001b[K     |████████████████████████▍       | 1.2MB 28.7MB/s eta 0:00:01\r\u001b[K     |████████████████████████▌       | 1.2MB 28.7MB/s eta 0:00:01\r\u001b[K     |████████████████████████▊       | 1.2MB 28.7MB/s eta 0:00:01\r\u001b[K     |█████████████████████████       | 1.2MB 28.7MB/s eta 0:00:01\r\u001b[K     |█████████████████████████▏      | 1.2MB 28.7MB/s eta 0:00:01\r\u001b[K     |█████████████████████████▍      | 1.2MB 28.7MB/s eta 0:00:01\r\u001b[K     |█████████████████████████▋      | 1.2MB 28.7MB/s eta 0:00:01\r\u001b[K     |█████████████████████████▉      | 1.2MB 28.7MB/s eta 0:00:01\r\u001b[K     |██████████████████████████      | 1.3MB 28.7MB/s eta 0:00:01\r\u001b[K     |██████████████████████████▎     | 1.3MB 28.7MB/s eta 0:00:01\r\u001b[K     |██████████████████████████▌     | 1.3MB 28.7MB/s eta 0:00:01\r\u001b[K     |██████████████████████████▊     | 1.3MB 28.7MB/s eta 0:00:01\r\u001b[K     |██████████████████████████▉     | 1.3MB 28.7MB/s eta 0:00:01\r\u001b[K     |███████████████████████████     | 1.3MB 28.7MB/s eta 0:00:01\r\u001b[K     |███████████████████████████▎    | 1.3MB 28.7MB/s eta 0:00:01\r\u001b[K     |███████████████████████████▌    | 1.3MB 28.7MB/s eta 0:00:01\r\u001b[K     |███████████████████████████▊    | 1.3MB 28.7MB/s eta 0:00:01\r\u001b[K     |████████████████████████████    | 1.4MB 28.7MB/s eta 0:00:01\r\u001b[K     |████████████████████████████▏   | 1.4MB 28.7MB/s eta 0:00:01\r\u001b[K     |████████████████████████████▍   | 1.4MB 28.7MB/s eta 0:00:01\r\u001b[K     |████████████████████████████▋   | 1.4MB 28.7MB/s eta 0:00:01\r\u001b[K     |████████████████████████████▉   | 1.4MB 28.7MB/s eta 0:00:01\r\u001b[K     |█████████████████████████████   | 1.4MB 28.7MB/s eta 0:00:01\r\u001b[K     |█████████████████████████████▏  | 1.4MB 28.7MB/s eta 0:00:01\r\u001b[K     |█████████████████████████████▍  | 1.4MB 28.7MB/s eta 0:00:01\r\u001b[K     |█████████████████████████████▋  | 1.4MB 28.7MB/s eta 0:00:01\r\u001b[K     |█████████████████████████████▉  | 1.4MB 28.7MB/s eta 0:00:01\r\u001b[K     |██████████████████████████████  | 1.5MB 28.7MB/s eta 0:00:01\r\u001b[K     |██████████████████████████████▎ | 1.5MB 28.7MB/s eta 0:00:01\r\u001b[K     |██████████████████████████████▌ | 1.5MB 28.7MB/s eta 0:00:01\r\u001b[K     |██████████████████████████████▊ | 1.5MB 28.7MB/s eta 0:00:01\r\u001b[K     |███████████████████████████████ | 1.5MB 28.7MB/s eta 0:00:01\r\u001b[K     |███████████████████████████████▏| 1.5MB 28.7MB/s eta 0:00:01\r\u001b[K     |███████████████████████████████▎| 1.5MB 28.7MB/s eta 0:00:01\r\u001b[K     |███████████████████████████████▌| 1.5MB 28.7MB/s eta 0:00:01\r\u001b[K     |███████████████████████████████▊| 1.5MB 28.7MB/s eta 0:00:01\r\u001b[K     |████████████████████████████████| 1.5MB 28.7MB/s eta 0:00:01\r\u001b[K     |████████████████████████████████| 1.6MB 28.7MB/s \n",
            "\u001b[?25hInstalling collected packages: pip\n",
            "  Found existing installation: pip 19.3.1\n",
            "    Uninstalling pip-19.3.1:\n",
            "      Successfully uninstalled pip-19.3.1\n",
            "Successfully installed pip-21.1.3\n"
          ],
          "name": "stdout"
        }
      ]
    },
    {
      "cell_type": "code",
      "metadata": {
        "colab": {
          "base_uri": "https://localhost:8080/"
        },
        "id": "WarRi5Th76dU",
        "outputId": "0e580a58-ab7e-41b8-e252-90712bdc05ca"
      },
      "source": [
        "!pip install sentencepiece"
      ],
      "execution_count": 3,
      "outputs": [
        {
          "output_type": "stream",
          "text": [
            "Collecting sentencepiece\n",
            "  Downloading sentencepiece-0.1.96-cp37-cp37m-manylinux_2_17_x86_64.manylinux2014_x86_64.whl (1.2 MB)\n",
            "\u001b[?25l\r\u001b[K     |▎                               | 10 kB 21.8 MB/s eta 0:00:01\r\u001b[K     |▌                               | 20 kB 25.1 MB/s eta 0:00:01\r\u001b[K     |▉                               | 30 kB 28.0 MB/s eta 0:00:01\r\u001b[K     |█                               | 40 kB 29.2 MB/s eta 0:00:01\r\u001b[K     |█▍                              | 51 kB 30.1 MB/s eta 0:00:01\r\u001b[K     |█▋                              | 61 kB 29.6 MB/s eta 0:00:01\r\u001b[K     |██                              | 71 kB 26.2 MB/s eta 0:00:01\r\u001b[K     |██▏                             | 81 kB 26.3 MB/s eta 0:00:01\r\u001b[K     |██▍                             | 92 kB 26.1 MB/s eta 0:00:01\r\u001b[K     |██▊                             | 102 kB 27.5 MB/s eta 0:00:01\r\u001b[K     |███                             | 112 kB 27.5 MB/s eta 0:00:01\r\u001b[K     |███▎                            | 122 kB 27.5 MB/s eta 0:00:01\r\u001b[K     |███▌                            | 133 kB 27.5 MB/s eta 0:00:01\r\u001b[K     |███▉                            | 143 kB 27.5 MB/s eta 0:00:01\r\u001b[K     |████                            | 153 kB 27.5 MB/s eta 0:00:01\r\u001b[K     |████▎                           | 163 kB 27.5 MB/s eta 0:00:01\r\u001b[K     |████▋                           | 174 kB 27.5 MB/s eta 0:00:01\r\u001b[K     |████▉                           | 184 kB 27.5 MB/s eta 0:00:01\r\u001b[K     |█████▏                          | 194 kB 27.5 MB/s eta 0:00:01\r\u001b[K     |█████▍                          | 204 kB 27.5 MB/s eta 0:00:01\r\u001b[K     |█████▊                          | 215 kB 27.5 MB/s eta 0:00:01\r\u001b[K     |██████                          | 225 kB 27.5 MB/s eta 0:00:01\r\u001b[K     |██████▏                         | 235 kB 27.5 MB/s eta 0:00:01\r\u001b[K     |██████▌                         | 245 kB 27.5 MB/s eta 0:00:01\r\u001b[K     |██████▊                         | 256 kB 27.5 MB/s eta 0:00:01\r\u001b[K     |███████                         | 266 kB 27.5 MB/s eta 0:00:01\r\u001b[K     |███████▎                        | 276 kB 27.5 MB/s eta 0:00:01\r\u001b[K     |███████▋                        | 286 kB 27.5 MB/s eta 0:00:01\r\u001b[K     |███████▉                        | 296 kB 27.5 MB/s eta 0:00:01\r\u001b[K     |████████                        | 307 kB 27.5 MB/s eta 0:00:01\r\u001b[K     |████████▍                       | 317 kB 27.5 MB/s eta 0:00:01\r\u001b[K     |████████▋                       | 327 kB 27.5 MB/s eta 0:00:01\r\u001b[K     |█████████                       | 337 kB 27.5 MB/s eta 0:00:01\r\u001b[K     |█████████▏                      | 348 kB 27.5 MB/s eta 0:00:01\r\u001b[K     |█████████▌                      | 358 kB 27.5 MB/s eta 0:00:01\r\u001b[K     |█████████▊                      | 368 kB 27.5 MB/s eta 0:00:01\r\u001b[K     |██████████                      | 378 kB 27.5 MB/s eta 0:00:01\r\u001b[K     |██████████▎                     | 389 kB 27.5 MB/s eta 0:00:01\r\u001b[K     |██████████▌                     | 399 kB 27.5 MB/s eta 0:00:01\r\u001b[K     |██████████▉                     | 409 kB 27.5 MB/s eta 0:00:01\r\u001b[K     |███████████                     | 419 kB 27.5 MB/s eta 0:00:01\r\u001b[K     |███████████▍                    | 430 kB 27.5 MB/s eta 0:00:01\r\u001b[K     |███████████▋                    | 440 kB 27.5 MB/s eta 0:00:01\r\u001b[K     |███████████▉                    | 450 kB 27.5 MB/s eta 0:00:01\r\u001b[K     |████████████▏                   | 460 kB 27.5 MB/s eta 0:00:01\r\u001b[K     |████████████▍                   | 471 kB 27.5 MB/s eta 0:00:01\r\u001b[K     |████████████▊                   | 481 kB 27.5 MB/s eta 0:00:01\r\u001b[K     |█████████████                   | 491 kB 27.5 MB/s eta 0:00:01\r\u001b[K     |█████████████▎                  | 501 kB 27.5 MB/s eta 0:00:01\r\u001b[K     |█████████████▌                  | 512 kB 27.5 MB/s eta 0:00:01\r\u001b[K     |█████████████▊                  | 522 kB 27.5 MB/s eta 0:00:01\r\u001b[K     |██████████████                  | 532 kB 27.5 MB/s eta 0:00:01\r\u001b[K     |██████████████▎                 | 542 kB 27.5 MB/s eta 0:00:01\r\u001b[K     |██████████████▋                 | 552 kB 27.5 MB/s eta 0:00:01\r\u001b[K     |██████████████▉                 | 563 kB 27.5 MB/s eta 0:00:01\r\u001b[K     |███████████████▏                | 573 kB 27.5 MB/s eta 0:00:01\r\u001b[K     |███████████████▍                | 583 kB 27.5 MB/s eta 0:00:01\r\u001b[K     |███████████████▋                | 593 kB 27.5 MB/s eta 0:00:01\r\u001b[K     |████████████████                | 604 kB 27.5 MB/s eta 0:00:01\r\u001b[K     |████████████████▏               | 614 kB 27.5 MB/s eta 0:00:01\r\u001b[K     |████████████████▌               | 624 kB 27.5 MB/s eta 0:00:01\r\u001b[K     |████████████████▊               | 634 kB 27.5 MB/s eta 0:00:01\r\u001b[K     |█████████████████               | 645 kB 27.5 MB/s eta 0:00:01\r\u001b[K     |█████████████████▎              | 655 kB 27.5 MB/s eta 0:00:01\r\u001b[K     |█████████████████▌              | 665 kB 27.5 MB/s eta 0:00:01\r\u001b[K     |█████████████████▉              | 675 kB 27.5 MB/s eta 0:00:01\r\u001b[K     |██████████████████              | 686 kB 27.5 MB/s eta 0:00:01\r\u001b[K     |██████████████████▍             | 696 kB 27.5 MB/s eta 0:00:01\r\u001b[K     |██████████████████▋             | 706 kB 27.5 MB/s eta 0:00:01\r\u001b[K     |███████████████████             | 716 kB 27.5 MB/s eta 0:00:01\r\u001b[K     |███████████████████▏            | 727 kB 27.5 MB/s eta 0:00:01\r\u001b[K     |███████████████████▍            | 737 kB 27.5 MB/s eta 0:00:01\r\u001b[K     |███████████████████▊            | 747 kB 27.5 MB/s eta 0:00:01\r\u001b[K     |████████████████████            | 757 kB 27.5 MB/s eta 0:00:01\r\u001b[K     |████████████████████▎           | 768 kB 27.5 MB/s eta 0:00:01\r\u001b[K     |████████████████████▌           | 778 kB 27.5 MB/s eta 0:00:01\r\u001b[K     |████████████████████▉           | 788 kB 27.5 MB/s eta 0:00:01\r\u001b[K     |█████████████████████           | 798 kB 27.5 MB/s eta 0:00:01\r\u001b[K     |█████████████████████▎          | 808 kB 27.5 MB/s eta 0:00:01\r\u001b[K     |█████████████████████▋          | 819 kB 27.5 MB/s eta 0:00:01\r\u001b[K     |█████████████████████▉          | 829 kB 27.5 MB/s eta 0:00:01\r\u001b[K     |██████████████████████▏         | 839 kB 27.5 MB/s eta 0:00:01\r\u001b[K     |██████████████████████▍         | 849 kB 27.5 MB/s eta 0:00:01\r\u001b[K     |██████████████████████▊         | 860 kB 27.5 MB/s eta 0:00:01\r\u001b[K     |███████████████████████         | 870 kB 27.5 MB/s eta 0:00:01\r\u001b[K     |███████████████████████▏        | 880 kB 27.5 MB/s eta 0:00:01\r\u001b[K     |███████████████████████▌        | 890 kB 27.5 MB/s eta 0:00:01\r\u001b[K     |███████████████████████▊        | 901 kB 27.5 MB/s eta 0:00:01\r\u001b[K     |████████████████████████        | 911 kB 27.5 MB/s eta 0:00:01\r\u001b[K     |████████████████████████▎       | 921 kB 27.5 MB/s eta 0:00:01\r\u001b[K     |████████████████████████▋       | 931 kB 27.5 MB/s eta 0:00:01\r\u001b[K     |████████████████████████▉       | 942 kB 27.5 MB/s eta 0:00:01\r\u001b[K     |█████████████████████████       | 952 kB 27.5 MB/s eta 0:00:01\r\u001b[K     |█████████████████████████▍      | 962 kB 27.5 MB/s eta 0:00:01\r\u001b[K     |█████████████████████████▋      | 972 kB 27.5 MB/s eta 0:00:01\r\u001b[K     |██████████████████████████      | 983 kB 27.5 MB/s eta 0:00:01\r\u001b[K     |██████████████████████████▏     | 993 kB 27.5 MB/s eta 0:00:01\r\u001b[K     |██████████████████████████▌     | 1.0 MB 27.5 MB/s eta 0:00:01\r\u001b[K     |██████████████████████████▊     | 1.0 MB 27.5 MB/s eta 0:00:01\r\u001b[K     |███████████████████████████     | 1.0 MB 27.5 MB/s eta 0:00:01\r\u001b[K     |███████████████████████████▎    | 1.0 MB 27.5 MB/s eta 0:00:01\r\u001b[K     |███████████████████████████▌    | 1.0 MB 27.5 MB/s eta 0:00:01\r\u001b[K     |███████████████████████████▉    | 1.1 MB 27.5 MB/s eta 0:00:01\r\u001b[K     |████████████████████████████    | 1.1 MB 27.5 MB/s eta 0:00:01\r\u001b[K     |████████████████████████████▍   | 1.1 MB 27.5 MB/s eta 0:00:01\r\u001b[K     |████████████████████████████▋   | 1.1 MB 27.5 MB/s eta 0:00:01\r\u001b[K     |████████████████████████████▉   | 1.1 MB 27.5 MB/s eta 0:00:01\r\u001b[K     |█████████████████████████████▏  | 1.1 MB 27.5 MB/s eta 0:00:01\r\u001b[K     |█████████████████████████████▍  | 1.1 MB 27.5 MB/s eta 0:00:01\r\u001b[K     |█████████████████████████████▊  | 1.1 MB 27.5 MB/s eta 0:00:01\r\u001b[K     |██████████████████████████████  | 1.1 MB 27.5 MB/s eta 0:00:01\r\u001b[K     |██████████████████████████████▎ | 1.1 MB 27.5 MB/s eta 0:00:01\r\u001b[K     |██████████████████████████████▌ | 1.2 MB 27.5 MB/s eta 0:00:01\r\u001b[K     |██████████████████████████████▊ | 1.2 MB 27.5 MB/s eta 0:00:01\r\u001b[K     |███████████████████████████████ | 1.2 MB 27.5 MB/s eta 0:00:01\r\u001b[K     |███████████████████████████████▎| 1.2 MB 27.5 MB/s eta 0:00:01\r\u001b[K     |███████████████████████████████▋| 1.2 MB 27.5 MB/s eta 0:00:01\r\u001b[K     |███████████████████████████████▉| 1.2 MB 27.5 MB/s eta 0:00:01\r\u001b[K     |████████████████████████████████| 1.2 MB 27.5 MB/s \n",
            "\u001b[?25hInstalling collected packages: sentencepiece\n",
            "Successfully installed sentencepiece-0.1.96\n",
            "\u001b[33mWARNING: Running pip as the 'root' user can result in broken permissions and conflicting behaviour with the system package manager. It is recommended to use a virtual environment instead: https://pip.pypa.io/warnings/venv\u001b[0m\n"
          ],
          "name": "stdout"
        }
      ]
    },
    {
      "cell_type": "code",
      "metadata": {
        "colab": {
          "base_uri": "https://localhost:8080/"
        },
        "id": "M9q3kSy24x8t",
        "outputId": "6a35f6f0-1f6e-4e11-ac95-7c7bb9a1308d"
      },
      "source": [
        "!curl -LkO https://raw.githubusercontent.com/remoteit/installer/master/scripts/auto-install.sh\n",
        "! chmod +x ./auto-install.sh\n",
        "! sudo ./auto-install.sh"
      ],
      "execution_count": 4,
      "outputs": [
        {
          "output_type": "stream",
          "text": [
            "  % Total    % Received % Xferd  Average Speed   Time    Time     Time  Current\n",
            "                                 Dload  Upload   Total   Spent    Left  Speed\n",
            "\r  0     0    0     0    0     0      0      0 --:--:-- --:--:-- --:--:--     0\r100 11536  100 11536    0     0  94557      0 --:--:-- --:--:-- --:--:-- 94557\n",
            "\n",
            " curl found \n",
            "********************************************************\n",
            "remote.it platform and binary tester version 2.6.39 \n",
            "Current directory /content\n",
            "Wed Jun 30 07:37:22 UTC 2021\n",
            "********************************************************\n",
            "Linux c3ef95a1e298 5.4.104+ #1 SMP Sat Jun 5 09:50:34 PDT 2021 x86_64 x86_64 x86_64 GNU/Linux\n",
            "Detected architecture is x86_64\n",
            "/usr/bin/dpkg\n",
            "Debian OS detected.\n",
            "amd64 architecture detected.\n",
            "\n",
            "Downloading and testing connectd.x86_64-ubuntu16.04...\n",
            "Looks compatible.\n",
            "connectd.x86_64-ubuntu16.04 is compatible!\n",
            "filename connectd_2.6.39_amd64.deb\n",
            "filepath https://github.com/remoteit/installer/releases/download/v2.6.39/connectd_2.6.39_amd64.deb\n",
            "Selecting previously unselected package connectd.\n",
            "(Reading database ... 160772 files and directories currently installed.)\n",
            "Preparing to unpack connectd_2.6.39_amd64.deb ...\n",
            "Unpacking connectd (2.6.39) ...\n",
            "Setting up connectd (2.6.39) ...\n",
            "\n",
            "================================================================================\n",
            "Run \"sudo connectd_installer\" to interactively install remote.it Services on this device.\n",
            "\n",
            "See https://support.remote.it/hc/en-us/sections/360010786372-Using-the-connectd-package\n",
            "for more information.\n",
            "\n",
            "================================================================================\n"
          ],
          "name": "stdout"
        }
      ]
    },
    {
      "cell_type": "code",
      "metadata": {
        "colab": {
          "base_uri": "https://localhost:8080/"
        },
        "id": "omyDBvWC4_Z1",
        "outputId": "c4a89524-138e-4bb8-daeb-c086eecc95d3"
      },
      "source": [
        "!sudo connectd_installer"
      ],
      "execution_count": 16,
      "outputs": [
        {
          "output_type": "stream",
          "text": [
            "/usr/bin/connectd_installer: 67: /usr/bin/connectd_options: ip: not found\n",
            "\n",
            "remote.it connection installer Version: 2.6.39 lib_v2.6.29 \n",
            "Modified: June 10, 2020 (library) April 24, 2021 \n",
            "Build date: Fri Apr 30 15:44:51 UTC 2021\n",
            "curl with SSL support installed.\n",
            "\n",
            "Checking the daemon for compatibility... \n",
            "\n",
            "Using architecture x86_64-ubuntu16.04...\n",
            "\n",
            "Checking your network for compatibility... \n",
            "\n",
            "Network connection OK...\n",
            "Your network is compatible with remote.it services.\n",
            "\n",
            "********************* Sign In Menu *********************\n",
            "                                                      \n",
            "     1) Sign in to your remote.it account with username and password   \n",
            "     2) Sign in to your remote.it account with access key and secret   \n",
            "     3) Exit                                          \n",
            "                                                      \n",
            "********************************************************\n",
            "*  To create a remote.it account, please visit         *\n",
            "*  https://remote.it                                   *\n",
            "********************************************************\n",
            "\n",
            "Choose a menu selection (1 - 3):\n",
            "1\n",
            "\n",
            "Please enter your remote.it Username (e-mail address): \n",
            "dkiki48@gmail.com\n",
            "\n",
            "Please enter your remote.it password: \n",
            ".\n",
            "\n",
            "\n",
            "=========================  Installed remote.it Services  ======================\n",
            " Service Name       | Protocol   | LAN Address        | Port | Application     \n",
            "-------------------------------------------------------------------------------\n",
            " colab              | HTTP       | localhost          | 80   | OK               \n",
            "-------------------------------------------------------------------------------\n",
            " Device Name: colab  Platform: x86_64-ubuntu16.04\n",
            " Hardware ID: -sfvi3knQ65kYIrEe1hzq\n",
            "\n",
            "============================ Main Menu ============================\n",
            "                                                                   \n",
            "    1) Attach/reinstall a remote.it Service to an application      \n",
            "    2) Attach/reinstall a remote.it Service to a LAN application   \n",
            "    3) Remove a remote.it Service from an application              \n",
            "    4) Remove all remote.it Services, then exit                    \n",
            "    5) Exit                                                        \n",
            "                                                                   \n",
            "===================================================================\n",
            "    'application' is any TCP service (e.g. SSH, VNC, HTTP, etc.)   \n",
            "    running on this device.  'LAN application' is a TCP service    \n",
            "    running on another device on this LAN.                         \n",
            "===================================================================\n",
            "Choose a menu selection (1 - 5):\n",
            "1\n",
            "\n",
            "\n",
            "*********** Protocol Selection Menu ***********\n",
            "                                             \n",
            "     1) SSH on port 22                       \n",
            "     2) Web (HTTP) on port 80                \n",
            "     3) Secure Web (HTTPS) on port 443       \n",
            "     4) VNC on port 5900                     \n",
            "     5) nxWitness on port 7001               \n",
            "     6) Samba (SMB) on port 445              \n",
            "     7) Remote Desktop (RDP) on port 3389    \n",
            "     8) NextCloud on port 443                \n",
            "     9) OpenVPN on port 1194                 \n",
            "     10) Custom (TCP)                        \n",
            "     11) Return to previous menu             \n",
            "                                             \n",
            "***********************************************\n",
            "\n",
            " You can change the port value during install  \n",
            "\n",
            "***********************************************\n",
            "\n",
            "Choose a menu selection (1 - 11):\n",
            "2\n",
            "\n",
            "The default port for Web (http) is 80.\n",
            "\n",
            "Would you like to continue with the default port assignment? [y/n] \n",
            "y\n",
            "We will attach a remote.it Service to the following Application:\n",
            "\n",
            "Protocol: web \n",
            "Port #: 80\n",
            "A remote.it Service is already attached to this Application.\n",
            "WARNING: you should exercise care that you do not reinstall a remote.it\n",
            "connection that you are currently using, for example SSH or VNC.\n",
            "\n",
            "\n",
            "Do you wish to overwrite your previous settings? [y/n] \n",
            "y\n",
            ".\n",
            "Deleting Connectdweb80... this may take up to 30 seconds.\n",
            "/usr/bin/Connectdweb80: 67: /usr/bin/connectd_options: ip: not found\n",
            "....\n",
            "==========================================\n",
            "Allocated UID: 80:00:00:00:01:10:7E:36. \n",
            "\n",
            "..\n",
            "\n",
            "Enter a name for this remote.it service (e.g. web-Pi). \n",
            "This name will be shown in your remote.it Service List.\n",
            "\n",
            "Only letters, numbers, underscore, space and dash are allowed.\n",
            "\n",
            "colab1\n",
            ".\n",
            "Registering colab1\n",
            ".......\n",
            "\n",
            "/usr/bin/Connectdweb80: 67: /usr/bin/connectd_options: ip: not found\n",
            "System has not been booted with systemd as init system (PID 1). Can't operate.\n",
            "\n",
            "\n",
            "=========================  Installed remote.it Services  ======================\n",
            " Service Name       | Protocol   | LAN Address        | Port | Application     \n",
            "-------------------------------------------------------------------------------\n",
            " colab1             | HTTP       | localhost          | 80   | OK               \n",
            "-------------------------------------------------------------------------------\n",
            " Device Name: colab  Platform: x86_64-ubuntu16.04\n",
            " Hardware ID: -sfvi3knQ65kYIrEe1hzq\n",
            "\n",
            "============================ Main Menu ============================\n",
            "                                                                   \n",
            "    1) Attach/reinstall a remote.it Service to an application      \n",
            "    2) Attach/reinstall a remote.it Service to a LAN application   \n",
            "    3) Remove a remote.it Service from an application              \n",
            "    4) Remove all remote.it Services, then exit                    \n",
            "    5) Exit                                                        \n",
            "                                                                   \n",
            "===================================================================\n",
            "    'application' is any TCP service (e.g. SSH, VNC, HTTP, etc.)   \n",
            "    running on this device.  'LAN application' is a TCP service    \n",
            "    running on another device on this LAN.                         \n",
            "===================================================================\n",
            "Choose a menu selection (1 - 5):\n",
            "5\n",
            "\n",
            "\n",
            "Are you sure you want to exit? [y/n] \n",
            "y\n"
          ],
          "name": "stdout"
        }
      ]
    },
    {
      "cell_type": "code",
      "metadata": {
        "colab": {
          "base_uri": "https://localhost:8080/"
        },
        "id": "ks3U0roR_EmH",
        "outputId": "f3b7fdcb-d253-442c-814c-d8551a62cba5"
      },
      "source": [
        "from transformers import pipeline\n",
        "classifier = pipeline(\"zero-shot-classification\",\n",
        "                      model=\"joeddav/xlm-roberta-large-xnli\")"
      ],
      "execution_count": 6,
      "outputs": [
        {
          "output_type": "stream",
          "text": [
            "Some weights of the model checkpoint at joeddav/xlm-roberta-large-xnli were not used when initializing XLMRobertaForSequenceClassification: ['roberta.pooler.dense.bias', 'roberta.pooler.dense.weight']\n",
            "- This IS expected if you are initializing XLMRobertaForSequenceClassification from the checkpoint of a model trained on another task or with another architecture (e.g. initializing a BertForSequenceClassification model from a BertForPreTraining model).\n",
            "- This IS NOT expected if you are initializing XLMRobertaForSequenceClassification from the checkpoint of a model that you expect to be exactly identical (initializing a BertForSequenceClassification model from a BertForSequenceClassification model).\n"
          ],
          "name": "stderr"
        }
      ]
    },
    {
      "cell_type": "code",
      "metadata": {
        "colab": {
          "base_uri": "https://localhost:8080/"
        },
        "id": "gHMAygtOAHYc",
        "outputId": "a8488250-d1c1-4762-dfb8-09741c1f770f"
      },
      "source": [
        "\n",
        "from transformers import AutoTokenizer, AutoModelForSequenceClassification\n",
        "def load_model():\n",
        "    tokenizer = AutoTokenizer.from_pretrained(\"joeddav/xlm-roberta-large-xnli\")\n",
        "    model = AutoModelForSequenceClassification.from_pretrained(\"joeddav/xlm-roberta-large-xnli\")\n",
        "    nlp_pipe = pipeline(\"zero-shot-classification\",model=model,tokenizer=tokenizer)  \n",
        "    return nlp_pipe\n",
        "npl_pipe = load_model()"
      ],
      "execution_count": 17,
      "outputs": [
        {
          "output_type": "stream",
          "text": [
            "Some weights of the model checkpoint at joeddav/xlm-roberta-large-xnli were not used when initializing XLMRobertaForSequenceClassification: ['roberta.pooler.dense.bias', 'roberta.pooler.dense.weight']\n",
            "- This IS expected if you are initializing XLMRobertaForSequenceClassification from the checkpoint of a model trained on another task or with another architecture (e.g. initializing a BertForSequenceClassification model from a BertForPreTraining model).\n",
            "- This IS NOT expected if you are initializing XLMRobertaForSequenceClassification from the checkpoint of a model that you expect to be exactly identical (initializing a BertForSequenceClassification model from a BertForSequenceClassification model).\n"
          ],
          "name": "stderr"
        }
      ]
    },
    {
      "cell_type": "code",
      "metadata": {
        "colab": {
          "base_uri": "https://localhost:8080/"
        },
        "id": "ePVx9_QFyYn5",
        "outputId": "f4d73dcf-0f28-43a1-e9b0-07c770d5f5ef"
      },
      "source": [
        "%%writefile transfomer.py\n",
        "\n",
        "import streamlit as st\n",
        "import plotly.express as px\n",
        "from PIL import Image\n",
        "import pandas as pd\n",
        "\n",
        "\n",
        "# # *** TITLE ***\n",
        "# st.title('Streamlit Application')\n",
        "# st.text('text')\n",
        "# \"\"\"\n",
        "# ### Subtitle\n",
        "# \"\"\"\n",
        "\n",
        "from transformers import AutoTokenizer, AutoModelForSequenceClassification\n",
        "from transformers import pipeline\n",
        "\n",
        "\n",
        "@st.cache(allow_output_mutation=True)\n",
        "def load_model():\n",
        "    classifier = pipeline(\"zero-shot-classification\",\n",
        "                      model=\"joeddav/xlm-roberta-large-xnli\")\n",
        "    return classifier\n",
        "classifier = load_model()\n",
        "# st.cache(show_spinner=False)\n",
        "# def load_model():\n",
        "#     tokenizer = AutoTokenizer.from_pretrained(\"joeddav/xlm-roberta-large-xnli\")\n",
        "#     model = AutoModelForSequenceClassification.from_pretrained(\"joeddav/xlm-roberta-large-xnli\")\n",
        "#     classifier = pipeline(\"zero-shot-classification\",model=model,tokenizer=tokenizer)  \n",
        "#     return classifier\n",
        "# # classifier = load_model()\n",
        "\n",
        "# st.header(\"Prototyping an NLP solution\")\n",
        "# st.text(\"This demo uses a zero shot model.\")\n",
        "\n",
        "# tweet = st.text_input(label='Insert a Tweet.')\n",
        "# # text = st.text(label=\"Lables\")\n",
        "\n",
        "\n",
        "# sequence_to_classify = tweet\n",
        "# candidate_labels = [\"Major\", \"Minor\", \"Unknown\"]\n",
        "# classifier(sequence_to_classify, candidate_labels)\n",
        "\n",
        "# st.text('Answer: ',)\n",
        "\n",
        "\n",
        "\n",
        "def classify(sequences: list, candidate_labels: list, multi_label=False):\n",
        "    \"\"\"\n",
        "    Get the classification output\n",
        "    Args:\n",
        "        sequences: list - list of sequences you want to classify\n",
        "        candidate_labels: list - Possible classfication labels\n",
        "        multi_label: bool - binary or multiple labels\n",
        "    Returns:\n",
        "        res: list - list of predicted probabilities for each example\n",
        "    \"\"\"\n",
        "    res = load_model()(sequences, candidate_labels, multi_label=multi_label)\n",
        "\n",
        "    if isinstance(res, dict):\n",
        "        return [res]\n",
        "\n",
        "    return res\n",
        "\n",
        "\n",
        "def output(res, multi_label):\n",
        "    \"\"\"\n",
        "    Args:\n",
        "        res: result from classifier\n",
        "        multi_label: is it multilabel classification\n",
        "    Returns:\n",
        "        pd.DataFrame: Pandas DataFrames\n",
        "    \"\"\"\n",
        "\n",
        "    sequences = []\n",
        "    labels = []\n",
        "    scores = []\n",
        "\n",
        "    if multi_label:\n",
        "        results = []\n",
        "        for i in range(len(res)):\n",
        "            record = {\n",
        "                \"example\": res[i].get('sequence')\n",
        "            }\n",
        "            record.update(zip(res[i].get('Severity'), res[i].get('Scores')))\n",
        "            results.append(record)\n",
        "            print(results)\n",
        "        return pd.DataFrame.from_records(results)\n",
        "    else:\n",
        "\n",
        "        for item in res:\n",
        "            sequences.append(item.get(\"sequence\"))\n",
        "            labels.append(item.get('labels')[0])\n",
        "            scores.append(item.get('scores')[0])\n",
        "\n",
        "        return pd.DataFrame.from_dict(\n",
        "            {\n",
        "                # \"examples\": sequences,\n",
        "                \"Severity\": labels,\n",
        "                \"Scores\": scores\n",
        "            }\n",
        "        )\n",
        "\n",
        "\n",
        "def run():\n",
        "    \"\"\"\n",
        "    Run the application\n",
        "    \"\"\"\n",
        "   \n",
        "    st.sidebar.info(\"You can use this app this app to classify Data\")\n",
        "    st.title(\"Twitter Accident Classification\")\n",
        "\n",
        "    collect_list = lambda x: [str(item) for item in x.split(\",\")]\n",
        "\n",
        "    sequences = st.text_input(\"Enter a Tweet\")\n",
        "    candidate_labels =      [\"Major\", \"Minor\", \"Unknown\"]            \n",
        "\n",
        "    multi_label = multi_label=False  \n",
        "    st.write('Prediction:')\n",
        "        st.write(\"Severity\" + ' with ',\n",
        "                scores*100, '% confidence')\n",
        "    res = classify(sequences, candidate_labels, multi_label=False)\n",
        "    data = output(res, multi_label)\n",
        "    st.dataframe(data)\n",
        "\n",
        "    if not multi_label:\n",
        "        fig = px.bar(data, x='Severity', y='Scores', color='Severity')\n",
        "    else:\n",
        "        fig = px.bar(data, x='example', y=collect_list(candidate_labels))\n",
        "    st.plotly_chart(fig)\n",
        "\n",
        "\n",
        "if __name__ == \"__main__\":\n",
        "    run()"
      ],
      "execution_count": 18,
      "outputs": [
        {
          "output_type": "stream",
          "text": [
            "Overwriting transfomer.py\n"
          ],
          "name": "stdout"
        }
      ]
    },
    {
      "cell_type": "code",
      "metadata": {
        "colab": {
          "base_uri": "https://localhost:8080/"
        },
        "id": "wpiygAXm0ksn",
        "outputId": "3779cc99-e07f-4fe1-dd88-ef906bc937cc"
      },
      "source": [
        "!ls"
      ],
      "execution_count": 12,
      "outputs": [
        {
          "output_type": "stream",
          "text": [
            "auto-install.sh\t\t   connectd.x86_64-ubuntu16.04\tsample_data\n",
            "connectd_2.6.39_amd64.deb  remote.itBinaryTestLog.txt\ttransfomer.py\n"
          ],
          "name": "stdout"
        }
      ]
    },
    {
      "cell_type": "code",
      "metadata": {
        "id": "2mFEnAZu0l5t"
      },
      "source": [
        "!streamlit run --server.port 80 transfomer.py --&>/dev/null&"
      ],
      "execution_count": 19,
      "outputs": []
    },
    {
      "cell_type": "code",
      "metadata": {
        "colab": {
          "base_uri": "https://localhost:8080/"
        },
        "id": "p2u1Sy1aBIn1",
        "outputId": "54dda295-4be2-45e8-8f49-ac70bfa138e2"
      },
      "source": [
        "!pgrep streamlit"
      ],
      "execution_count": 28,
      "outputs": [
        {
          "output_type": "stream",
          "text": [
            "351\n",
            "1055\n",
            "1066\n",
            "1659\n"
          ],
          "name": "stdout"
        }
      ]
    },
    {
      "cell_type": "code",
      "metadata": {
        "id": "T2BasY7pBMSQ"
      },
      "source": [
        ""
      ],
      "execution_count": null,
      "outputs": []
    }
  ]
}